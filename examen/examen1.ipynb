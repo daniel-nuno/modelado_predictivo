{
 "cells": [
  {
   "cell_type": "markdown",
   "metadata": {},
   "source": [
    "<br>\n",
    "<br>\n",
    "\n",
    "![iteso](https://upload.wikimedia.org/wikipedia/en/5/5f/Western_Institute_of_Technology_and_Higher_Education_logo.png)\n",
    "\n",
    "###  InstitutoTecnológico y de Estudios Superiores de Occidente ###\n",
    "###  Maestría Ciencia de Datos  ###\n",
    "###  Modelado Predictivo ###\n",
    "#  Practical Evaluation: Linear models with output information #\n",
    "\n",
    "<br>\n",
    "<br>\n",
    "\n",
    "* * *\n",
    "\n",
    "Estudiante: Daniel Nuño <br>\n",
    "Profesor: Dr. Riemann Ruiz Cruz <br>\n",
    "Fecha entrega: 25 septiembre, 2022 <br>\n",
    "\n",
    "* * *\n",
    "\n",
    "<br>\n",
    "<br>"
   ]
  },
  {
   "cell_type": "code",
   "execution_count": 75,
   "metadata": {
    "vscode": {
     "languageId": "html"
    }
   },
   "outputs": [
    {
     "ename": "SyntaxError",
     "evalue": "invalid syntax (2725851802.py, line 1)",
     "output_type": "error",
     "traceback": [
      "\u001b[1;36m  Input \u001b[1;32mIn [75]\u001b[1;36m\u001b[0m\n\u001b[1;33m    <div style=\"page-break-after: always;\"></div>\u001b[0m\n\u001b[1;37m    ^\u001b[0m\n\u001b[1;31mSyntaxError\u001b[0m\u001b[1;31m:\u001b[0m invalid syntax\n"
     ]
    }
   ],
   "source": [
    "<div style=\"page-break-after: always;\"></div>"
   ]
  },
  {
   "cell_type": "markdown",
   "metadata": {},
   "source": [
    "## Intro\n",
    "\n",
    "This evaluation has the purpose of evaluating the knowledge and reasoning of the results obtained by applying a regression model.\n",
    "\n",
    "The data set that will be analyzed in this evaluation is related to estimating risk levels based on client variables. The exercises requested in this exam are based on the analysis of a data set, which can be downloaded in 3 parts at the following links:\n",
    "\n",
    "- Training dataset: [Training dataset](https://iteso01-my.sharepoint.com/:x:/g/personal/riemannruiz_iteso_mx/ERI5N3-vF5JNnt51NaGGJdoBBhUBzMN1hLlHpOcUpj7Ztg?e=ode2M2) (This dataset contains 24 predictor features, and the variable to predict \"Audit_Risk\", with 200 samples.)\n",
    "\n",
    "- Test dataset: [Test dataset](https://iteso01-my.sharepoint.com/:x:/g/personal/riemannruiz_iteso_mx/Ec61TH9DEApHptNkJmimIDEBEzQYeB75BJI25iRg7FERFA?e=jGWDB4) (This dataset contains 24 predictor features, and the variable to predict \"Audit_Risk\", with 100 samples.)\n",
    "\n",
    "- Unknown dataset: [Unknown dataset](https://iteso01-my.sharepoint.com/:x:/g/personal/riemannruiz_iteso_mx/EcXmaxEBedZJlnXFoN88peABY_MHLiCt8FoxPtftkO210Q?e=1eaKvF) (This dataset contains 50 samples of 24 predictor features without the variable to predict \"Audit_Risk\".)\n",
    "\n",
    "\n",
    "\n",
    "For this evaluation, the output variable is 'Audit_Risk', and the remaining variables will be the possible model's input variables.\n",
    "- Hint: Make sure you can read the three files provided before you start answering the questions. This will save you a bit of time.\n",
    "- Hint2: You can use the parameter \"index_col=0\" to read the file so that the index of the data is correct.\n",
    "\n",
    "Based on the data downloaded, answer the following questions:"
   ]
  },
  {
   "cell_type": "code",
   "execution_count": null,
   "metadata": {},
   "outputs": [],
   "source": [
    "# Libraries\n",
    "import matplotlib.pyplot as plt\n",
    "import numpy as np\n",
    "import pandas as pd\n",
    "from scipy.stats import skew\n",
    "\n",
    "# Modeling Libraries\n",
    "from sklearn.linear_model import LinearRegression\n",
    "from sklearn.metrics import (mean_squared_error,r2_score)\n",
    "from sklearn.preprocessing import MinMaxScaler, StandardScaler\n"
   ]
  },
  {
   "cell_type": "code",
   "execution_count": 76,
   "metadata": {},
   "outputs": [],
   "source": [
    "#%% Importing data\n",
    "Train = pd.read_csv('Audit_train.csv', index_col=0)\n",
    "Test = pd.read_csv('Audit_test.csv', index_col=0)\n",
    "Unknown = pd.read_csv('Audit_unknown.csv', index_col=0)"
   ]
  },
  {
   "cell_type": "code",
   "execution_count": 77,
   "metadata": {},
   "outputs": [
    {
     "data": {
      "text/plain": [
       "Sector_score      float64\n",
       "PARA_A            float64\n",
       "Score_A           float64\n",
       "Risk_A            float64\n",
       "PARA_B            float64\n",
       "Score_B           float64\n",
       "Risk_B            float64\n",
       "TOTAL             float64\n",
       "numbers           float64\n",
       "Score_B.1         float64\n",
       "Risk_C            float64\n",
       "Money_Value       float64\n",
       "Score_MV          float64\n",
       "Risk_D            float64\n",
       "District_Loss       int64\n",
       "PROB              float64\n",
       "RiSk_E            float64\n",
       "History             int64\n",
       "Prob              float64\n",
       "Risk_F            float64\n",
       "Score             float64\n",
       "Inherent_Risk     float64\n",
       "CONTROL_RISK      float64\n",
       "Detection_Risk    float64\n",
       "Audit_Risk        float64\n",
       "dtype: object"
      ]
     },
     "execution_count": 77,
     "metadata": {},
     "output_type": "execute_result"
    }
   ],
   "source": [
    "Train.dtypes"
   ]
  },
  {
   "cell_type": "code",
   "execution_count": 78,
   "metadata": {},
   "outputs": [
    {
     "data": {
      "text/plain": [
       "(Sector_score      0\n",
       " PARA_A            0\n",
       " Score_A           0\n",
       " Risk_A            0\n",
       " PARA_B            0\n",
       " Score_B           0\n",
       " Risk_B            0\n",
       " TOTAL             0\n",
       " numbers           0\n",
       " Score_B.1         0\n",
       " Risk_C            0\n",
       " Money_Value       0\n",
       " Score_MV          0\n",
       " Risk_D            0\n",
       " District_Loss     0\n",
       " PROB              0\n",
       " RiSk_E            0\n",
       " History           0\n",
       " Prob              0\n",
       " Risk_F            0\n",
       " Score             0\n",
       " Inherent_Risk     0\n",
       " CONTROL_RISK      0\n",
       " Detection_Risk    0\n",
       " Audit_Risk        0\n",
       " dtype: int64,\n",
       " Sector_score      0\n",
       " PARA_A            0\n",
       " Score_A           0\n",
       " Risk_A            0\n",
       " PARA_B            0\n",
       " Score_B           0\n",
       " Risk_B            0\n",
       " TOTAL             0\n",
       " numbers           0\n",
       " Score_B.1         0\n",
       " Risk_C            0\n",
       " Money_Value       0\n",
       " Score_MV          0\n",
       " Risk_D            0\n",
       " District_Loss     0\n",
       " PROB              0\n",
       " RiSk_E            0\n",
       " History           0\n",
       " Prob              0\n",
       " Risk_F            0\n",
       " Score             0\n",
       " Inherent_Risk     0\n",
       " CONTROL_RISK      0\n",
       " Detection_Risk    0\n",
       " Audit_Risk        0\n",
       " dtype: int64,\n",
       " Sector_score      0\n",
       " PARA_A            0\n",
       " Score_A           0\n",
       " Risk_A            0\n",
       " PARA_B            0\n",
       " Score_B           0\n",
       " Risk_B            0\n",
       " TOTAL             0\n",
       " numbers           0\n",
       " Score_B.1         0\n",
       " Risk_C            0\n",
       " Money_Value       0\n",
       " Score_MV          0\n",
       " Risk_D            0\n",
       " District_Loss     0\n",
       " PROB              0\n",
       " RiSk_E            0\n",
       " History           0\n",
       " Prob              0\n",
       " Risk_F            0\n",
       " Score             0\n",
       " Inherent_Risk     0\n",
       " CONTROL_RISK      0\n",
       " Detection_Risk    0\n",
       " dtype: int64)"
      ]
     },
     "execution_count": 78,
     "metadata": {},
     "output_type": "execute_result"
    }
   ],
   "source": [
    "(Train.isna().sum(), Test.isna().sum(), Unknown.isna().sum())"
   ]
  },
  {
   "cell_type": "code",
   "execution_count": 79,
   "metadata": {},
   "outputs": [
    {
     "data": {
      "text/plain": [
       "array([[<AxesSubplot:title={'center':'Sector_score'}>,\n",
       "        <AxesSubplot:title={'center':'PARA_A'}>,\n",
       "        <AxesSubplot:title={'center':'Score_A'}>,\n",
       "        <AxesSubplot:title={'center':'Risk_A'}>,\n",
       "        <AxesSubplot:title={'center':'PARA_B'}>],\n",
       "       [<AxesSubplot:title={'center':'Score_B'}>,\n",
       "        <AxesSubplot:title={'center':'Risk_B'}>,\n",
       "        <AxesSubplot:title={'center':'TOTAL'}>,\n",
       "        <AxesSubplot:title={'center':'numbers'}>,\n",
       "        <AxesSubplot:title={'center':'Score_B.1'}>],\n",
       "       [<AxesSubplot:title={'center':'Risk_C'}>,\n",
       "        <AxesSubplot:title={'center':'Money_Value'}>,\n",
       "        <AxesSubplot:title={'center':'Score_MV'}>,\n",
       "        <AxesSubplot:title={'center':'Risk_D'}>,\n",
       "        <AxesSubplot:title={'center':'District_Loss'}>],\n",
       "       [<AxesSubplot:title={'center':'PROB'}>,\n",
       "        <AxesSubplot:title={'center':'RiSk_E'}>,\n",
       "        <AxesSubplot:title={'center':'History'}>,\n",
       "        <AxesSubplot:title={'center':'Prob'}>,\n",
       "        <AxesSubplot:title={'center':'Risk_F'}>],\n",
       "       [<AxesSubplot:title={'center':'Score'}>,\n",
       "        <AxesSubplot:title={'center':'Inherent_Risk'}>,\n",
       "        <AxesSubplot:title={'center':'CONTROL_RISK'}>,\n",
       "        <AxesSubplot:title={'center':'Detection_Risk'}>,\n",
       "        <AxesSubplot:title={'center':'Audit_Risk'}>]], dtype=object)"
      ]
     },
     "execution_count": 79,
     "metadata": {},
     "output_type": "execute_result"
    },
    {
     "data": {
      "image/png": "[encoded data removed]",
      "text/plain": [
       "<Figure size 1080x576 with 25 Axes>"
      ]
     },
     "metadata": {
      "needs_background": "light"
     },
     "output_type": "display_data"
    }
   ],
   "source": [
    "Train.hist(figsize=(15,8), xlabelsize=0, ylabelsize=0)"
   ]
  },
  {
   "cell_type": "code",
   "execution_count": null,
   "metadata": {},
   "outputs": [
    {
     "data": {
      "text/plain": [
       "array([False,  True, False,  True,  True, False,  True,  True,  True,\n",
       "        True,  True,  True,  True,  True,  True,  True,  True,  True,\n",
       "        True,  True, False,  True,  True, False,  True])"
      ]
     },
     "execution_count": 41,
     "metadata": {},
     "output_type": "execute_result"
    }
   ],
   "source": [
    "(skew(Train, axis=0) >= 1)"
   ]
  },
  {
   "cell_type": "markdown",
   "metadata": {},
   "source": [
    "PARA_A, Risk_A, PARA_B, Risk_B, TOTAL, numbers, Score_B.1, Risk_C, Money_Value, Score_MV, Risk_D, District_Loss, PROBB, RiSk_E, History, Prob, Risk_F, Inherent_Risk, CONTROL_RISK, Audit_Risk"
   ]
  },
  {
   "cell_type": "code",
   "execution_count": 80,
   "metadata": {},
   "outputs": [],
   "source": [
    "Train_clean = Train.drop(columns=['Detection_Risk'])"
   ]
  },
  {
   "cell_type": "code",
   "execution_count": 81,
   "metadata": {},
   "outputs": [],
   "source": [
    "from scipy import stats\n",
    "Train_clean = Train_clean[(np.abs(stats.zscore(Train_clean)) < 3).all(axis=1)]"
   ]
  },
  {
   "cell_type": "code",
   "execution_count": 82,
   "metadata": {},
   "outputs": [
    {
     "data": {
      "text/plain": [
       "array([[<AxesSubplot:title={'center':'Sector_score'}>,\n",
       "        <AxesSubplot:title={'center':'PARA_A'}>,\n",
       "        <AxesSubplot:title={'center':'Score_A'}>,\n",
       "        <AxesSubplot:title={'center':'Risk_A'}>,\n",
       "        <AxesSubplot:title={'center':'PARA_B'}>],\n",
       "       [<AxesSubplot:title={'center':'Score_B'}>,\n",
       "        <AxesSubplot:title={'center':'Risk_B'}>,\n",
       "        <AxesSubplot:title={'center':'TOTAL'}>,\n",
       "        <AxesSubplot:title={'center':'numbers'}>,\n",
       "        <AxesSubplot:title={'center':'Score_B.1'}>],\n",
       "       [<AxesSubplot:title={'center':'Risk_C'}>,\n",
       "        <AxesSubplot:title={'center':'Money_Value'}>,\n",
       "        <AxesSubplot:title={'center':'Score_MV'}>,\n",
       "        <AxesSubplot:title={'center':'Risk_D'}>,\n",
       "        <AxesSubplot:title={'center':'District_Loss'}>],\n",
       "       [<AxesSubplot:title={'center':'PROB'}>,\n",
       "        <AxesSubplot:title={'center':'RiSk_E'}>,\n",
       "        <AxesSubplot:title={'center':'History'}>,\n",
       "        <AxesSubplot:title={'center':'Prob'}>,\n",
       "        <AxesSubplot:title={'center':'Risk_F'}>],\n",
       "       [<AxesSubplot:title={'center':'Score'}>,\n",
       "        <AxesSubplot:title={'center':'Inherent_Risk'}>,\n",
       "        <AxesSubplot:title={'center':'CONTROL_RISK'}>,\n",
       "        <AxesSubplot:title={'center':'Audit_Risk'}>, <AxesSubplot:>]],\n",
       "      dtype=object)"
      ]
     },
     "execution_count": 82,
     "metadata": {},
     "output_type": "execute_result"
    },
    {
     "data": {
      "image/png": "[encoded data removed]",
      "text/plain": [
       "<Figure size 1080x576 with 25 Axes>"
      ]
     },
     "metadata": {
      "needs_background": "light"
     },
     "output_type": "display_data"
    }
   ],
   "source": [
    "Train_clean.hist(figsize=(15,8), xlabelsize=0, ylabelsize=0)"
   ]
  },
  {
   "cell_type": "code",
   "execution_count": 86,
   "metadata": {},
   "outputs": [
    {
     "data": {
      "text/plain": [
       "array([False,  True, False,  True,  True,  True,  True,  True,  True,\n",
       "        True,  True,  True,  True,  True,  True, False,  True,  True,\n",
       "        True,  True,  True,  True,  True,  True])"
      ]
     },
     "execution_count": 86,
     "metadata": {},
     "output_type": "execute_result"
    }
   ],
   "source": [
    "skew(Train_clean, axis=0)>1"
   ]
  },
  {
   "cell_type": "markdown",
   "metadata": {},
   "source": [
    "PARA_A, Risk_A, PARA_B, Risk_B, Score_B, TOTAL, numbers, Score_B.1, Risk_C, Money_Value, Score_MV, Risk_D, District_Loss, RiSk_E, History, Prob, Risk_F, Score, Inherent_Risk, CONTROL_RISK, Audit_Risk"
   ]
  },
  {
   "cell_type": "code",
   "execution_count": 85,
   "metadata": {},
   "outputs": [
    {
     "data": {
      "text/plain": [
       "array([False,  True, False,  True,  True, False,  True,  True,  True,\n",
       "        True,  True,  True,  True,  True,  True,  True,  True,  True,\n",
       "        True,  True, False,  True,  True, False,  True])"
      ]
     },
     "execution_count": 85,
     "metadata": {},
     "output_type": "execute_result"
    }
   ],
   "source": [
    "skew(Train, axis=0) >= 1"
   ]
  },
  {
   "cell_type": "code",
   "execution_count": 87,
   "metadata": {},
   "outputs": [
    {
     "data": {
      "text/plain": [
       "array([0.2, 0.4, 0.6])"
      ]
     },
     "execution_count": 87,
     "metadata": {},
     "output_type": "execute_result"
    }
   ],
   "source": [
    "Train['PROB'].unique()"
   ]
  }
 ],
 "metadata": {
  "kernelspec": {
   "display_name": "Python 3.8.13 ('base')",
   "language": "python",
   "name": "python3"
  },
  "language_info": {
   "codemirror_mode": {
    "name": "ipython",
    "version": 3
   },
   "file_extension": ".py",
   "mimetype": "text/x-python",
   "name": "python",
   "nbconvert_exporter": "python",
   "pygments_lexer": "ipython3",
   "version": "3.8.13"
  },
  "orig_nbformat": 4,
  "vscode": {
   "interpreter": {
    "hash": "50a2db19f1a5826b7a7c49721eefb839e2f4ea4b5c5d5ee89308ab778aa63f0c"
   }
  }
 },
 "nbformat": 4,
 "nbformat_minor": 2
}
