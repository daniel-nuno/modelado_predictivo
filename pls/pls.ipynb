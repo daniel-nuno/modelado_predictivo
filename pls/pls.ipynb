{
 "cells": [
  {
   "cell_type": "markdown",
   "metadata": {},
   "source": [
    "<br>\n",
    "<br>\n",
    "\n",
    "![iteso](https://upload.wikimedia.org/wikipedia/en/5/5f/Western_Institute_of_Technology_and_Higher_Education_logo.png)\n",
    "\n",
    "###  InstitutoTecnológico y de Estudios Superiores de Occidente ###\n",
    "###  Maestría Ciencia de Datos  ###\n",
    "###  Modelado Predictivo ###\n",
    "# Tarea 1: PLS for regression  ###\n",
    "\n",
    "<br>\n",
    "<br>\n",
    "\n",
    "* * *\n",
    "\n",
    "Estudiante: Daniel Nuño <br>\n",
    "Profesor: Dr. Riemann Ruiz Cruz <br>\n",
    "Fecha entrega: 7 de septiembre 2022<br>\n",
    "\n",
    "* * *\n",
    "\n",
    "<br>\n",
    "<br>"
   ]
  },
  {
   "cell_type": "markdown",
   "metadata": {},
   "source": [
    "## Introduction\n",
    "\n",
    "The dataset that will be used for this activity has the name **Airfoil Self-Noise Data Set** and it can be found in the repository [UC  Irvine  Machine  Learning  Repository](https://archive.ics.uci.edu/ml/datasets/Airfoil+Self-Noise). The data collected is related to different size NACA 0012 airfoils at various wind tunnel speeds and angles of attack. The span of the airfoil and the observer position were the same in all of the experiment.\n",
    "\n",
    "Using the data set mentioned, develop the following points.\n",
    "\n",
    "1. Determine if there is missing data and decide if it is appropriate to use some strategy to fill in the missing data.\n",
    "2. Create two subsets of data, where the first one will be used for the training process and the second one for the testing process.\n",
    "3. Train a linear model to estimate the feature “Sound Pressure Level” using as inputs to the model all other variables. Get the values of RMSE and to evaluate the performance of the model in both training and testing.\n",
    "4. Considering the data set used in point 3; perform elimination of some variables using variance criterion or correlation criterion. With the variables resulting from the elimination process, I trained a new linear model and calculate the metrics RMSE and corresponding to training and testing.\n",
    "5. Considering the data set used in point 3 again; perform variable reduction by principal component analysis. With the variables resulting from the reduction process, train a new linear model and calculate the metrics RMSE and corresponding to training and testing.\n",
    "6. Considering the data set used in point 3 again; train a new linear model using PLS technique and calculated the metrics RMSE and corresponding to training and testing.\n",
    "7. As a result of the previous steps, we have four different linear models to solve the problem proposed. Make a table with the metrics of each model to make a comparison of the models.\n",
    "\n",
    "\n",
    "## Development"
   ]
  },
  {
   "cell_type": "code",
   "execution_count": 1,
   "metadata": {},
   "outputs": [
    {
     "data": {
      "text/html": [
       "<div>\n",
       "<style scoped>\n",
       "    .dataframe tbody tr th:only-of-type {\n",
       "        vertical-align: middle;\n",
       "    }\n",
       "\n",
       "    .dataframe tbody tr th {\n",
       "        vertical-align: top;\n",
       "    }\n",
       "\n",
       "    .dataframe thead th {\n",
       "        text-align: right;\n",
       "    }\n",
       "</style>\n",
       "<table border=\"1\" class=\"dataframe\">\n",
       "  <thead>\n",
       "    <tr style=\"text-align: right;\">\n",
       "      <th></th>\n",
       "      <th>freq</th>\n",
       "      <th>angle</th>\n",
       "      <th>clength</th>\n",
       "      <th>speed</th>\n",
       "      <th>thickness</th>\n",
       "      <th>soundp</th>\n",
       "    </tr>\n",
       "  </thead>\n",
       "  <tbody>\n",
       "    <tr>\n",
       "      <th>0</th>\n",
       "      <td>800</td>\n",
       "      <td>0.0</td>\n",
       "      <td>0.3048</td>\n",
       "      <td>71.3</td>\n",
       "      <td>0.002663</td>\n",
       "      <td>126.201</td>\n",
       "    </tr>\n",
       "    <tr>\n",
       "      <th>1</th>\n",
       "      <td>1000</td>\n",
       "      <td>0.0</td>\n",
       "      <td>0.3048</td>\n",
       "      <td>71.3</td>\n",
       "      <td>0.002663</td>\n",
       "      <td>125.201</td>\n",
       "    </tr>\n",
       "    <tr>\n",
       "      <th>2</th>\n",
       "      <td>1250</td>\n",
       "      <td>0.0</td>\n",
       "      <td>0.3048</td>\n",
       "      <td>71.3</td>\n",
       "      <td>0.002663</td>\n",
       "      <td>125.951</td>\n",
       "    </tr>\n",
       "    <tr>\n",
       "      <th>3</th>\n",
       "      <td>1600</td>\n",
       "      <td>0.0</td>\n",
       "      <td>0.3048</td>\n",
       "      <td>71.3</td>\n",
       "      <td>0.002663</td>\n",
       "      <td>127.591</td>\n",
       "    </tr>\n",
       "    <tr>\n",
       "      <th>4</th>\n",
       "      <td>2000</td>\n",
       "      <td>0.0</td>\n",
       "      <td>0.3048</td>\n",
       "      <td>71.3</td>\n",
       "      <td>0.002663</td>\n",
       "      <td>127.461</td>\n",
       "    </tr>\n",
       "  </tbody>\n",
       "</table>\n",
       "</div>"
      ],
      "text/plain": [
       "   freq  angle  clength  speed  thickness   soundp\n",
       "0   800    0.0   0.3048   71.3   0.002663  126.201\n",
       "1  1000    0.0   0.3048   71.3   0.002663  125.201\n",
       "2  1250    0.0   0.3048   71.3   0.002663  125.951\n",
       "3  1600    0.0   0.3048   71.3   0.002663  127.591\n",
       "4  2000    0.0   0.3048   71.3   0.002663  127.461"
      ]
     },
     "execution_count": 1,
     "metadata": {},
     "output_type": "execute_result"
    }
   ],
   "source": [
    "import pandas as pd\n",
    "import numpy as np\n",
    "data = pd.read_csv('airfoil_self_noise.dat', header=None, sep=\"\\s+\")\n",
    "# 1. Frequency, in Hertzs.\n",
    "# 2. Angle of attack, in degrees.\n",
    "# 3. Chord length, in meters.\n",
    "# 4. Free-stream velocity, in meters per second.\n",
    "# 5. Suction side displacement thickness, in meters.\n",
    "# 6. Scaled sound pressure level, in decibels. This is the Response variable\n",
    "names = [\"freq\", \"angle\", \"clength\", \"speed\", \"thickness\", \"soundp\"]\n",
    "data.columns = names\n",
    "data.head()"
   ]
  },
  {
   "cell_type": "markdown",
   "metadata": {},
   "source": [
    "### Determine if there is missing data and decide if it is appropriate to use some strategy to fill in the missing data."
   ]
  },
  {
   "cell_type": "code",
   "execution_count": 2,
   "metadata": {},
   "outputs": [
    {
     "data": {
      "text/html": [
       "<div>\n",
       "<style scoped>\n",
       "    .dataframe tbody tr th:only-of-type {\n",
       "        vertical-align: middle;\n",
       "    }\n",
       "\n",
       "    .dataframe tbody tr th {\n",
       "        vertical-align: top;\n",
       "    }\n",
       "\n",
       "    .dataframe thead th {\n",
       "        text-align: right;\n",
       "    }\n",
       "</style>\n",
       "<table border=\"1\" class=\"dataframe\">\n",
       "  <thead>\n",
       "    <tr style=\"text-align: right;\">\n",
       "      <th></th>\n",
       "      <th>freq</th>\n",
       "      <th>angle</th>\n",
       "      <th>clength</th>\n",
       "      <th>speed</th>\n",
       "      <th>thickness</th>\n",
       "      <th>soundp</th>\n",
       "    </tr>\n",
       "  </thead>\n",
       "  <tbody>\n",
       "    <tr>\n",
       "      <th>count</th>\n",
       "      <td>1503.000000</td>\n",
       "      <td>1503.000000</td>\n",
       "      <td>1503.000000</td>\n",
       "      <td>1503.000000</td>\n",
       "      <td>1503.000000</td>\n",
       "      <td>1503.000000</td>\n",
       "    </tr>\n",
       "    <tr>\n",
       "      <th>mean</th>\n",
       "      <td>2886.380572</td>\n",
       "      <td>6.782302</td>\n",
       "      <td>0.136548</td>\n",
       "      <td>50.860745</td>\n",
       "      <td>0.011140</td>\n",
       "      <td>124.835943</td>\n",
       "    </tr>\n",
       "    <tr>\n",
       "      <th>std</th>\n",
       "      <td>3152.573137</td>\n",
       "      <td>5.918128</td>\n",
       "      <td>0.093541</td>\n",
       "      <td>15.572784</td>\n",
       "      <td>0.013150</td>\n",
       "      <td>6.898657</td>\n",
       "    </tr>\n",
       "    <tr>\n",
       "      <th>min</th>\n",
       "      <td>200.000000</td>\n",
       "      <td>0.000000</td>\n",
       "      <td>0.025400</td>\n",
       "      <td>31.700000</td>\n",
       "      <td>0.000401</td>\n",
       "      <td>103.380000</td>\n",
       "    </tr>\n",
       "    <tr>\n",
       "      <th>25%</th>\n",
       "      <td>800.000000</td>\n",
       "      <td>2.000000</td>\n",
       "      <td>0.050800</td>\n",
       "      <td>39.600000</td>\n",
       "      <td>0.002535</td>\n",
       "      <td>120.191000</td>\n",
       "    </tr>\n",
       "    <tr>\n",
       "      <th>50%</th>\n",
       "      <td>1600.000000</td>\n",
       "      <td>5.400000</td>\n",
       "      <td>0.101600</td>\n",
       "      <td>39.600000</td>\n",
       "      <td>0.004957</td>\n",
       "      <td>125.721000</td>\n",
       "    </tr>\n",
       "    <tr>\n",
       "      <th>75%</th>\n",
       "      <td>4000.000000</td>\n",
       "      <td>9.900000</td>\n",
       "      <td>0.228600</td>\n",
       "      <td>71.300000</td>\n",
       "      <td>0.015576</td>\n",
       "      <td>129.995500</td>\n",
       "    </tr>\n",
       "    <tr>\n",
       "      <th>max</th>\n",
       "      <td>20000.000000</td>\n",
       "      <td>22.200000</td>\n",
       "      <td>0.304800</td>\n",
       "      <td>71.300000</td>\n",
       "      <td>0.058411</td>\n",
       "      <td>140.987000</td>\n",
       "    </tr>\n",
       "  </tbody>\n",
       "</table>\n",
       "</div>"
      ],
      "text/plain": [
       "               freq        angle      clength        speed    thickness  \\\n",
       "count   1503.000000  1503.000000  1503.000000  1503.000000  1503.000000   \n",
       "mean    2886.380572     6.782302     0.136548    50.860745     0.011140   \n",
       "std     3152.573137     5.918128     0.093541    15.572784     0.013150   \n",
       "min      200.000000     0.000000     0.025400    31.700000     0.000401   \n",
       "25%      800.000000     2.000000     0.050800    39.600000     0.002535   \n",
       "50%     1600.000000     5.400000     0.101600    39.600000     0.004957   \n",
       "75%     4000.000000     9.900000     0.228600    71.300000     0.015576   \n",
       "max    20000.000000    22.200000     0.304800    71.300000     0.058411   \n",
       "\n",
       "            soundp  \n",
       "count  1503.000000  \n",
       "mean    124.835943  \n",
       "std       6.898657  \n",
       "min     103.380000  \n",
       "25%     120.191000  \n",
       "50%     125.721000  \n",
       "75%     129.995500  \n",
       "max     140.987000  "
      ]
     },
     "execution_count": 2,
     "metadata": {},
     "output_type": "execute_result"
    }
   ],
   "source": [
    "data.describe()"
   ]
  },
  {
   "cell_type": "code",
   "execution_count": 3,
   "metadata": {},
   "outputs": [
    {
     "data": {
      "text/plain": [
       "freq         0\n",
       "angle        0\n",
       "clength      0\n",
       "speed        0\n",
       "thickness    0\n",
       "soundp       0\n",
       "dtype: int64"
      ]
     },
     "execution_count": 3,
     "metadata": {},
     "output_type": "execute_result"
    }
   ],
   "source": [
    "data.isnull().sum()"
   ]
  },
  {
   "cell_type": "code",
   "execution_count": 4,
   "metadata": {},
   "outputs": [
    {
     "data": {
      "text/plain": [
       "freq         0\n",
       "angle        0\n",
       "clength      0\n",
       "speed        0\n",
       "thickness    0\n",
       "soundp       0\n",
       "dtype: int64"
      ]
     },
     "execution_count": 4,
     "metadata": {},
     "output_type": "execute_result"
    }
   ],
   "source": [
    "data.isna().sum()"
   ]
  },
  {
   "cell_type": "markdown",
   "metadata": {},
   "source": [
    "There are no missing values detected at this point."
   ]
  },
  {
   "cell_type": "markdown",
   "metadata": {},
   "source": [
    "### Create two subsets of data, where the first one will be used for the training process and the second one for the testing process."
   ]
  },
  {
   "cell_type": "code",
   "execution_count": 5,
   "metadata": {},
   "outputs": [],
   "source": [
    "from sklearn.model_selection import train_test_split\n",
    "\n",
    "X_train, X_test, y_train, y_test = train_test_split(data.drop(\"soundp\", axis=1),\n",
    "                                                    data[\"soundp\"],\n",
    "                                                    test_size=0.3, random_state=1)"
   ]
  },
  {
   "cell_type": "markdown",
   "metadata": {},
   "source": [
    "### Train a linear model to estimate the feature “Sound Pressure Level” using as inputs to the model all other variables. Get the values of RMSE and to evaluate the performance of the model in both training and testing."
   ]
  },
  {
   "cell_type": "code",
   "execution_count": 6,
   "metadata": {},
   "outputs": [
    {
     "data": {
      "text/plain": [
       "(4.725472625187291, 4.97823738797826)"
      ]
     },
     "execution_count": 6,
     "metadata": {},
     "output_type": "execute_result"
    }
   ],
   "source": [
    "import matplotlib.pyplot as plt\n",
    "from sklearn.linear_model import LinearRegression\n",
    "from sklearn.metrics import (mean_squared_error,r2_score)\n",
    "\n",
    "linreg = LinearRegression()\n",
    "linreg.fit(X_train, y_train)\n",
    "\n",
    "y_predict_train = linreg.predict(X_train)\n",
    "y_predict_test = linreg.predict(X_test)\n",
    "\n",
    "original_mse_train = mean_squared_error(y_train,y_predict_train, squared=False)\n",
    "original_mse_test = mean_squared_error(y_test,y_predict_test, squared=False)\n",
    "\n",
    "(original_mse_train, original_mse_test)"
   ]
  },
  {
   "cell_type": "markdown",
   "metadata": {},
   "source": [
    "### Considering the data set used in point 3; perform elimination of some variables using variance criterion or correlation criterion. With the variables resulting from the elimination process, I trained a new linear model and calculate the metrics RMSE and corresponding to training and testing."
   ]
  },
  {
   "cell_type": "code",
   "execution_count": 7,
   "metadata": {},
   "outputs": [
    {
     "data": {
      "text/plain": [
       "array(['freq', 'angle', 'speed'], dtype=object)"
      ]
     },
     "execution_count": 7,
     "metadata": {},
     "output_type": "execute_result"
    }
   ],
   "source": [
    "from sklearn.feature_selection import VarianceThreshold\n",
    "\n",
    "sel = VarianceThreshold(threshold = 0.5)\n",
    "sel.fit_transform(X_train)\n",
    "sel.get_feature_names_out()"
   ]
  },
  {
   "cell_type": "markdown",
   "metadata": {},
   "source": [
    "Accordign to VarianceThreshold, we can keep columns **freq**, **angle** and **speed**. The feature selector that removes all low-variance features. This feature selection algorithm looks only at the features (X), not the desired outputs (y), and can thus be used for unsupervised learning.\n",
    "\n",
    "threshold parameter specifies that features with a training-set variance lower than this threshold will be removed. The default is to keep all features with non-zero variance, i.e. remove the features that have the same value in all samples."
   ]
  },
  {
   "cell_type": "code",
   "execution_count": 8,
   "metadata": {},
   "outputs": [
    {
     "data": {
      "text/plain": [
       "(5.892135487526167, 5.899347143678915)"
      ]
     },
     "execution_count": 8,
     "metadata": {},
     "output_type": "execute_result"
    }
   ],
   "source": [
    "X_train, X_test, y_train, y_test = train_test_split(data[['freq', 'angle', 'speed']],\n",
    "                                                    data[\"soundp\"],\n",
    "                                                    test_size=0.3, random_state=1)\n",
    "\n",
    "linreg = LinearRegression()\n",
    "linreg.fit(X_train, y_train)\n",
    "\n",
    "y_predict_train = linreg.predict(X_train)\n",
    "y_predict_test = linreg.predict(X_test)\n",
    "\n",
    "step_mse_train = mean_squared_error(y_train,y_predict_train, squared=False)\n",
    "step_mse_test = mean_squared_error(y_test,y_predict_test, squared=False)\n",
    "\n",
    "(step_mse_train, step_mse_test)"
   ]
  },
  {
   "cell_type": "markdown",
   "metadata": {},
   "source": [
    "### Considering the data set used in point 3 again; perform variable reduction by principal component analysis. With the variables resulting from the reduction process, train a new linear model and calculate the metrics RMSE and corresponding to training and testing."
   ]
  },
  {
   "cell_type": "code",
   "execution_count": 9,
   "metadata": {},
   "outputs": [
    {
     "data": {
      "text/plain": [
       "array([9.99973821e-01, 2.30916970e-05, 3.08642017e-06, 6.29162995e-10,\n",
       "       6.68357489e-12])"
      ]
     },
     "execution_count": 9,
     "metadata": {},
     "output_type": "execute_result"
    }
   ],
   "source": [
    "from sklearn.decomposition import PCA\n",
    "\n",
    "X_train, X_test, y_train, y_test = train_test_split(data.drop(\"soundp\", axis=1),\n",
    "                                                    data[\"soundp\"],\n",
    "                                                    test_size=0.3, random_state=1)\n",
    "\n",
    "pca = PCA()\n",
    "pca.fit(X_train)\n",
    "data_pca = pca.transform(X_train)\n",
    "data_pca = pd.DataFrame(data_pca, columns=['x1*','x2*','x3*', 'x4*', 'x5*'])\n",
    "data_pca[\"soundp\"] = data[\"soundp\"]\n",
    "\n",
    "pca.explained_variance_ratio_"
   ]
  },
  {
   "cell_type": "markdown",
   "metadata": {},
   "source": [
    "According to PCA the first principal componenc is suffient because it explains 99.9% of the explained variance."
   ]
  },
  {
   "cell_type": "code",
   "execution_count": 10,
   "metadata": {},
   "outputs": [
    {
     "data": {
      "text/plain": [
       "(6.369948882209672, 6.2702984020999315)"
      ]
     },
     "execution_count": 10,
     "metadata": {},
     "output_type": "execute_result"
    }
   ],
   "source": [
    "linreg.fit(data_pca[['x1*']], y_train)\n",
    "y_predict_train = linreg.predict(data_pca[['x1*']])\n",
    "#pca'd test set\n",
    "data_pca_test = pca.transform(X_test)\n",
    "data_pca_test = pd.DataFrame(data_pca_test, columns=['x1*','x2*','x3*', 'x4*', 'x5*'])\n",
    "linreg.fit(data_pca_test[['x1*']], y_test)\n",
    "y_predict_test = linreg.predict(data_pca_test[['x1*']])\n",
    "\n",
    "pca_mse_train = mean_squared_error(y_train,y_predict_train, squared=False)\n",
    "pca_mse_test = mean_squared_error(y_test,y_predict_test, squared=False)\n",
    "\n",
    "(pca_mse_train, pca_mse_test)\n"
   ]
  },
  {
   "cell_type": "markdown",
   "metadata": {},
   "source": [
    "### Considering the data set used in point 3 again; train a new linear model using PLS technique and calculated the metrics RMSE and corresponding to training and testing."
   ]
  },
  {
   "cell_type": "code",
   "execution_count": 11,
   "metadata": {},
   "outputs": [
    {
     "data": {
      "text/plain": [
       "(4.849093920288027, 5.093148922223512)"
      ]
     },
     "execution_count": 11,
     "metadata": {},
     "output_type": "execute_result"
    }
   ],
   "source": [
    "from sklearn.cross_decomposition import PLSRegression\n",
    "\n",
    "X_train, X_test, y_train, y_test = train_test_split(data.drop(\"soundp\", axis=1),\n",
    "                                                    data[\"soundp\"],\n",
    "                                                    test_size=0.3, random_state=1)\n",
    "\n",
    "# Aplicamos PLS\n",
    "pls = PLSRegression(n_components=1)\n",
    "pls.fit(data.drop(\"soundp\", axis=1), data[\"soundp\"])\n",
    "\n",
    "y_predict_train = pls.predict(X_train)\n",
    "y_predict_test = pls.predict(X_test)\n",
    "\n",
    "pls_mse_train = mean_squared_error(y_train,y_predict_train, squared=False)\n",
    "pls_mse_test = mean_squared_error(y_test,y_predict_test, squared=False)\n",
    "(pls_mse_train, pls_mse_test)\n"
   ]
  },
  {
   "cell_type": "markdown",
   "metadata": {},
   "source": [
    "### As a result of the previous steps, we have four different linear models to solve the problem proposed. Make a table with the metrics of each model to make a comparison of the models."
   ]
  },
  {
   "cell_type": "code",
   "execution_count": 12,
   "metadata": {},
   "outputs": [
    {
     "data": {
      "text/html": [
       "<div>\n",
       "<style scoped>\n",
       "    .dataframe tbody tr th:only-of-type {\n",
       "        vertical-align: middle;\n",
       "    }\n",
       "\n",
       "    .dataframe tbody tr th {\n",
       "        vertical-align: top;\n",
       "    }\n",
       "\n",
       "    .dataframe thead th {\n",
       "        text-align: right;\n",
       "    }\n",
       "</style>\n",
       "<table border=\"1\" class=\"dataframe\">\n",
       "  <thead>\n",
       "    <tr style=\"text-align: right;\">\n",
       "      <th></th>\n",
       "      <th>Modelo</th>\n",
       "      <th>RMSE Train</th>\n",
       "      <th>RMSE Test</th>\n",
       "    </tr>\n",
       "  </thead>\n",
       "  <tbody>\n",
       "    <tr>\n",
       "      <th>0</th>\n",
       "      <td>Original</td>\n",
       "      <td>4.725473</td>\n",
       "      <td>4.978237</td>\n",
       "    </tr>\n",
       "    <tr>\n",
       "      <th>1</th>\n",
       "      <td>Varianza</td>\n",
       "      <td>5.892135</td>\n",
       "      <td>5.899347</td>\n",
       "    </tr>\n",
       "    <tr>\n",
       "      <th>2</th>\n",
       "      <td>PCA</td>\n",
       "      <td>6.369949</td>\n",
       "      <td>6.270298</td>\n",
       "    </tr>\n",
       "    <tr>\n",
       "      <th>3</th>\n",
       "      <td>PLS</td>\n",
       "      <td>4.849094</td>\n",
       "      <td>5.093149</td>\n",
       "    </tr>\n",
       "  </tbody>\n",
       "</table>\n",
       "</div>"
      ],
      "text/plain": [
       "     Modelo  RMSE Train  RMSE Test\n",
       "0  Original    4.725473   4.978237\n",
       "1  Varianza    5.892135   5.899347\n",
       "2       PCA    6.369949   6.270298\n",
       "3       PLS    4.849094   5.093149"
      ]
     },
     "execution_count": 12,
     "metadata": {},
     "output_type": "execute_result"
    }
   ],
   "source": [
    "results = {'Modelo': [\"Original\", \"Varianza\", \"PCA\", \"PLS\"],\n",
    "           'RMSE Train': [original_mse_train, step_mse_train, pca_mse_train, pls_mse_train],\n",
    "           'RMSE Test': [original_mse_test, step_mse_test, pca_mse_test, pls_mse_test]}\n",
    "\n",
    "results = pd.DataFrame(data=results)\n",
    "results"
   ]
  },
  {
   "cell_type": "markdown",
   "metadata": {},
   "source": [
    "## Conclusion\n",
    "\n",
    "PLS method turns out to be very similar, in termns of error, to the original linear regresión with all data. However with the advantage, or disaventage, to have one liner combined component."
   ]
  }
 ],
 "metadata": {
  "kernelspec": {
   "display_name": "Python 3 (ipykernel)",
   "language": "python",
   "name": "python3"
  },
  "language_info": {
   "codemirror_mode": {
    "name": "ipython",
    "version": 3
   },
   "file_extension": ".py",
   "mimetype": "text/x-python",
   "name": "python",
   "nbconvert_exporter": "python",
   "pygments_lexer": "ipython3",
   "version": "3.8.13"
  },
  "vscode": {
   "interpreter": {
    "hash": "50a2db19f1a5826b7a7c49721eefb839e2f4ea4b5c5d5ee89308ab778aa63f0c"
   }
  }
 },
 "nbformat": 4,
 "nbformat_minor": 2
}
